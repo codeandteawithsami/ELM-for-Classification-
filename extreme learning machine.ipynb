{
 "cells": [
  {
   "cell_type": "code",
   "execution_count": 6,
   "id": "8a70de81",
   "metadata": {},
   "outputs": [],
   "source": [
    "import numpy as np\n",
    "import pandas as pd\n",
    "import sklearn\n",
    "from sklearn import datasets\n",
    "from sklearn.model_selection import train_test_split\n",
    "from sklearn.metrics import accuracy_score\n",
    "from model import ELM"
   ]
  },
  {
   "cell_type": "code",
   "execution_count": 7,
   "id": "62f948b9",
   "metadata": {},
   "outputs": [],
   "source": [
    "dt = datasets.make_classification(10000)"
   ]
  },
  {
   "cell_type": "code",
   "execution_count": 10,
   "id": "2f6a1857",
   "metadata": {},
   "outputs": [],
   "source": [
    "elm = ELM(dt[0].shape[1],2,20)"
   ]
  },
  {
   "cell_type": "code",
   "execution_count": 11,
   "id": "4a4a4910",
   "metadata": {},
   "outputs": [
    {
     "data": {
      "text/plain": [
       "<model.ELM at 0x1c65ea39950>"
      ]
     },
     "execution_count": 11,
     "metadata": {},
     "output_type": "execute_result"
    }
   ],
   "source": [
    "elm"
   ]
  },
  {
   "cell_type": "code",
   "execution_count": 14,
   "id": "4be17d82",
   "metadata": {},
   "outputs": [],
   "source": [
    "x_train,x_test,y_train,y_test = train_test_split(dt[0],dt[1],test_size=0.2,random_state=42)"
   ]
  },
  {
   "cell_type": "code",
   "execution_count": 15,
   "id": "dfde17b4",
   "metadata": {},
   "outputs": [
    {
     "data": {
      "text/plain": [
       "array([[-0.32712102, -0.39074848, -1.56562984, ..., -1.7750427 ,\n",
       "         0.49073366, -1.31018302],\n",
       "       [-0.77032887, -0.91468343,  0.26710604, ..., -0.97021468,\n",
       "         0.24382179, -0.3625503 ],\n",
       "       [ 1.37146896,  0.01955754, -0.82591878, ..., -0.6860597 ,\n",
       "        -0.9986673 ,  1.30408222],\n",
       "       ...,\n",
       "       [-1.49223879,  0.48023759,  1.54127024, ...,  0.73714711,\n",
       "        -0.97369354, -1.1693634 ],\n",
       "       [ 0.27150483, -0.86150836, -0.45307344, ...,  0.59213288,\n",
       "        -0.00361658, -0.18781565],\n",
       "       [ 1.4392798 , -1.54814165, -0.74090592, ..., -0.76236824,\n",
       "        -1.13590368, -1.66895944]])"
      ]
     },
     "execution_count": 15,
     "metadata": {},
     "output_type": "execute_result"
    }
   ],
   "source": [
    "x_test"
   ]
  },
  {
   "cell_type": "code",
   "execution_count": 17,
   "id": "9cecd343",
   "metadata": {},
   "outputs": [
    {
     "data": {
      "text/plain": [
       "matrix([[ 0.13675962],\n",
       "        [ 0.96241786],\n",
       "        [ 0.08651783],\n",
       "        ...,\n",
       "        [-0.11302294],\n",
       "        [ 1.10045458],\n",
       "        [ 1.06234424]])"
      ]
     },
     "execution_count": 17,
     "metadata": {},
     "output_type": "execute_result"
    }
   ],
   "source": [
    "elm.train(x_train,y_train.reshape(-1,1))"
   ]
  },
  {
   "cell_type": "code",
   "execution_count": 18,
   "id": "33a003b5",
   "metadata": {},
   "outputs": [],
   "source": [
    "y_pred = elm.predict(x_test)"
   ]
  },
  {
   "cell_type": "code",
   "execution_count": 21,
   "id": "e95a9b02",
   "metadata": {},
   "outputs": [],
   "source": [
    "y_pred  = (y_pred > 0.5).astype(int)"
   ]
  },
  {
   "cell_type": "code",
   "execution_count": 24,
   "id": "805ad98d",
   "metadata": {},
   "outputs": [],
   "source": [
    "y_pred = np.asarray(y_pred)"
   ]
  },
  {
   "cell_type": "code",
   "execution_count": 25,
   "id": "ae0ef24a",
   "metadata": {},
   "outputs": [
    {
     "name": "stdout",
     "output_type": "stream",
     "text": [
      "accuracy 0.94\n"
     ]
    }
   ],
   "source": [
    "print(\"accuracy\",accuracy_score(y_test,y_pred))"
   ]
  },
  {
   "cell_type": "code",
   "execution_count": 26,
   "id": "bafd3797",
   "metadata": {},
   "outputs": [
    {
     "name": "stdout",
     "output_type": "stream",
     "text": [
      "accuracy 0.9368421052631579\n"
     ]
    }
   ],
   "source": [
    "from sklearn.metrics import f1_score\n",
    "print(\"accuracy\",f1_score(y_test,y_pred))"
   ]
  },
  {
   "cell_type": "code",
   "execution_count": null,
   "id": "b1e046c6",
   "metadata": {},
   "outputs": [],
   "source": []
  }
 ],
 "metadata": {
  "kernelspec": {
   "display_name": "Python 3 (ipykernel)",
   "language": "python",
   "name": "python3"
  },
  "language_info": {
   "codemirror_mode": {
    "name": "ipython",
    "version": 3
   },
   "file_extension": ".py",
   "mimetype": "text/x-python",
   "name": "python",
   "nbconvert_exporter": "python",
   "pygments_lexer": "ipython3",
   "version": "3.11.2"
  }
 },
 "nbformat": 4,
 "nbformat_minor": 5
}
